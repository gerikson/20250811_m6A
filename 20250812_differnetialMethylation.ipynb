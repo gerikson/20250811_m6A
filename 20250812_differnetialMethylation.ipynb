{
 "cells": [
  {
   "cell_type": "markdown",
   "id": "8a3dcce7",
   "metadata": {},
   "source": [
    "Fisher’s exact test - diffential methylation"
   ]
  },
  {
   "cell_type": "code",
   "execution_count": null,
   "id": "44d56074",
   "metadata": {},
   "outputs": [],
   "source": [
    "import pandas as pd\n",
    "from scipy.stats import fisher_exact\n",
    "from statsmodels.stats.multitest import multipletests\n",
    "\n",
    "# Load merged table with counts\n",
    "df = pd.read_csv(\"merged_counts.tsv\", sep=\"\\t\")\n",
    "\n",
    "pvals = []\n",
    "for _, row in df.iterrows():\n",
    "    table = [\n",
    "        [row[\"mod_cov_WT\"], row[\"total_cov_WT\"] - row[\"mod_cov_WT\"]],\n",
    "        [row[\"mod_cov_MUT\"], row[\"total_cov_MUT\"] - row[\"mod_cov_MUT\"]]\n",
    "    ]\n",
    "    _, p = fisher_exact(table)\n",
    "    pvals.append(p)\n",
    "\n",
    "df[\"pval\"] = pvals\n",
    "df[\"pval_adj\"] = multipletests(df[\"pval\"], method=\"fdr_bh\")[1]\n",
    "df[\"frac_diff\"] = (df[\"mod_cov_MUT\"]/df[\"total_cov_MUT\"]) - (df[\"mod_cov_WT\"]/df[\"total_cov_WT\"])\n",
    "\n",
    "# Filter significant differences\n",
    "sig = df[(df[\"pval_adj\"] < 0.05) & (df[\"frac_diff\"].abs() >= 0.2)]\n",
    "sig.to_csv(\"diff_methylation_sites.tsv\", sep=\"\\t\", index=False)"
   ]
  }
 ],
 "metadata": {
  "language_info": {
   "name": "python"
  }
 },
 "nbformat": 4,
 "nbformat_minor": 5
}
